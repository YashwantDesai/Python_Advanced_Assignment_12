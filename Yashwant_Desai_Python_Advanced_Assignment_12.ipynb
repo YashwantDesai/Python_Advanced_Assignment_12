{
 "cells": [
  {
   "cell_type": "markdown",
   "id": "0c27a818",
   "metadata": {},
   "source": [
    "# Yashwant Desai –  Python_Advanced_Assignment_12"
   ]
  },
  {
   "cell_type": "markdown",
   "id": "d5072144",
   "metadata": {},
   "source": [
    "# Q1. Does assigning a value to a string's indexed character violate Python's string immutability?"
   ]
  },
  {
   "cell_type": "markdown",
   "id": "ecd477e3",
   "metadata": {},
   "source": [
    "Assigning a value to a string's indexed character is not allowed and violates the string's immutability. Instead, you should create a new string with the desired changes because strings in Python cannot be modified once they are created."
   ]
  },
  {
   "cell_type": "code",
   "execution_count": 7,
   "id": "6963d48b",
   "metadata": {},
   "outputs": [
    {
     "ename": "TypeError",
     "evalue": "'str' object does not support item assignment",
     "output_type": "error",
     "traceback": [
      "\u001b[1;31m---------------------------------------------------------------------------\u001b[0m",
      "\u001b[1;31mTypeError\u001b[0m                                 Traceback (most recent call last)",
      "\u001b[1;32m~\\AppData\\Local\\Temp\\ipykernel_620\\2676478325.py\u001b[0m in \u001b[0;36m<module>\u001b[1;34m\u001b[0m\n\u001b[0;32m      1\u001b[0m \u001b[0mmy_string\u001b[0m \u001b[1;33m=\u001b[0m \u001b[1;34m\"Hello, sample\"\u001b[0m\u001b[1;33m\u001b[0m\u001b[1;33m\u001b[0m\u001b[0m\n\u001b[0;32m      2\u001b[0m \u001b[1;31m# Attempt to change the character at index 0\u001b[0m\u001b[1;33m\u001b[0m\u001b[1;33m\u001b[0m\u001b[0m\n\u001b[1;32m----> 3\u001b[1;33m \u001b[0mmy_string\u001b[0m\u001b[1;33m[\u001b[0m\u001b[1;36m0\u001b[0m\u001b[1;33m]\u001b[0m \u001b[1;33m=\u001b[0m \u001b[1;34m'Y'\u001b[0m  \u001b[1;31m# This will raise a TypeError\u001b[0m\u001b[1;33m\u001b[0m\u001b[1;33m\u001b[0m\u001b[0m\n\u001b[0m",
      "\u001b[1;31mTypeError\u001b[0m: 'str' object does not support item assignment"
     ]
    }
   ],
   "source": [
    "my_string = \"Hello, sample\"\n",
    "# Attempt to change the character at index 0\n",
    "my_string[0] = 'Y'  # This will raise a TypeError"
   ]
  },
  {
   "cell_type": "code",
   "execution_count": 8,
   "id": "78301867",
   "metadata": {},
   "outputs": [
    {
     "name": "stdout",
     "output_type": "stream",
     "text": [
      "Yello, sample\n"
     ]
    }
   ],
   "source": [
    "my_string = \"Hello, sample\"\n",
    "new_string = \"Y\" + my_string[1:]\n",
    "print(new_string)"
   ]
  },
  {
   "cell_type": "markdown",
   "id": "bf502655",
   "metadata": {},
   "source": [
    "# Q2. Does using the += operator to concatenate strings violate Python's string immutability? Why or why not?"
   ]
  },
  {
   "cell_type": "markdown",
   "id": "a974f81d",
   "metadata": {},
   "source": [
    "In Python using the += operator to concatenate strings does not violate string immutability. It creates a new string to hold the concatenated result and updates the variable to refer to this new string, leaving the original strings unchanged."
   ]
  },
  {
   "cell_type": "code",
   "execution_count": 9,
   "id": "523204bc",
   "metadata": {},
   "outputs": [
    {
     "name": "stdout",
     "output_type": "stream",
     "text": [
      "Hello, Yash\n"
     ]
    }
   ],
   "source": [
    "original_string = \"Hello, \"\n",
    "name = \"Yash\"\n",
    "original_string += name  # Using += to concatenate strings\n",
    "print(original_string)"
   ]
  },
  {
   "cell_type": "markdown",
   "id": "1f516b4e",
   "metadata": {},
   "source": [
    "# Q3. In Python, how many different ways are there to index a character?"
   ]
  },
  {
   "cell_type": "markdown",
   "id": "60811841",
   "metadata": {},
   "source": [
    "We can index characters in a string using positive indexing, negative indexing, slicing, striding, or combinations of these methods to access, extract, or manipulate characters as needed."
   ]
  },
  {
   "cell_type": "code",
   "execution_count": 22,
   "id": "0b833d9a",
   "metadata": {},
   "outputs": [],
   "source": [
    "my_string = \"Hello\"\n",
    "#positive indexing\n",
    "first_char = my_string[0]  \n",
    "second_char = my_string[1] \n",
    "\n",
    "#negative indexing\n",
    "last_char = my_string[-1]  \n",
    "second_last_char = my_string[-2]\n",
    "\n",
    "#slicing\n",
    "user_string = \"Hello, world!\"\n",
    "substring = user_string[7:12]\n",
    "\n",
    "#striding\n",
    "even_chars = my_string[::2]\n",
    "\n",
    "#Combining methods\n",
    "reversed_string = my_string[::-1]\n"
   ]
  },
  {
   "cell_type": "markdown",
   "id": "7a6184d0",
   "metadata": {},
   "source": [
    "# Q4. What is the relationship between indexing and slicing?"
   ]
  },
  {
   "cell_type": "markdown",
   "id": "a2482fb2",
   "metadata": {},
   "source": [
    "The relationship between indexing and slicing is that slicing is an extension of indexing. When you use indexing, you retrieve a single element at a specific index position. When you use slicing, you can retrieve multiple elements by specifying a range of index positions. Slicing allows you to extract a subset of elements from an iterable."
   ]
  },
  {
   "cell_type": "markdown",
   "id": "d036080b",
   "metadata": {},
   "source": [
    "# Q5. What is an indexed character's exact data type? What is the data form of a slicing-generated substring?"
   ]
  },
  {
   "cell_type": "raw",
   "id": "9e33df2b",
   "metadata": {},
   "source": [
    "An indexed character's exact data type is a string, and it represents a single character within a string.A slicing-generated substring in Python has the same data type as the original string from which it was sliced, which is also a string. It represents a portion of the original string."
   ]
  },
  {
   "cell_type": "markdown",
   "id": "7198bc52",
   "metadata": {},
   "source": [
    "# Q6. What is the relationship between string and character \"types\" in Python?"
   ]
  },
  {
   "cell_type": "markdown",
   "id": "244a1b74",
   "metadata": {},
   "source": [
    "A string is a sequence of characters enclosed in single, double, or triple quotes, representing text of any length.\n",
    "A character is not a separate data type; it's a single-character string with a length of 1.\n",
    "You can access individual characters from a string using indexing.\n",
    "Characters are essentially treated as strings with a length of 1 in Python, and there is no distinct \"char\" data type like in some other programming languages."
   ]
  },
  {
   "cell_type": "markdown",
   "id": "26c7469c",
   "metadata": {},
   "source": [
    "# Q7. Identify at least two operators and one method that allow you to combine one or more smaller strings to create a larger string."
   ]
  },
  {
   "cell_type": "markdown",
   "id": "752cbbbc",
   "metadata": {},
   "source": [
    "We can combine smaller strings to create a larger string using the + operator for simple concatenation and string formatting methods like str.format() and f-strings (formatted string literals) for more complex string composition."
   ]
  },
  {
   "cell_type": "code",
   "execution_count": 16,
   "id": "b1d0eb3d",
   "metadata": {},
   "outputs": [
    {
     "name": "stdout",
     "output_type": "stream",
     "text": [
      "Hello, World!\n"
     ]
    }
   ],
   "source": [
    "str1 = \"Hello, \"\n",
    "str2 = \"World!\"\n",
    "result = str1 + str2\n",
    "print(result)"
   ]
  },
  {
   "cell_type": "code",
   "execution_count": 17,
   "id": "1667302d",
   "metadata": {},
   "outputs": [
    {
     "name": "stdout",
     "output_type": "stream",
     "text": [
      "My name is Yash and I am 20 years old.\n"
     ]
    }
   ],
   "source": [
    "name = \"Yash\"\n",
    "age = 20\n",
    "message = f\"My name is {name} and I am {age} years old.\"\n",
    "print(message)"
   ]
  },
  {
   "cell_type": "markdown",
   "id": "ddb90836",
   "metadata": {},
   "source": [
    "# Q8. What is the benefit of first checking the target string with in or not in before using the index method to find a substring?"
   ]
  },
  {
   "cell_type": "markdown",
   "id": "fe21910b",
   "metadata": {},
   "source": [
    "Using in or not in before the index method allows you to safely check if a substring exists in a target string without raising exceptions, and it can be more efficient, especially when you don't need the exact index of the substring."
   ]
  },
  {
   "cell_type": "code",
   "execution_count": 7,
   "id": "9c883bdb",
   "metadata": {},
   "outputs": [
    {
     "name": "stdout",
     "output_type": "stream",
     "text": [
      "Substring found at index 7\n"
     ]
    }
   ],
   "source": [
    "target_string = \"Hello, Yash\"\n",
    "if \"Yash\" in target_string:\n",
    "    index = target_string.index(\"Yash\")\n",
    "    print(f\"Substring found at index {index}\")\n",
    "else:\n",
    "    print(\"Substring not found\")"
   ]
  },
  {
   "cell_type": "markdown",
   "id": "fd91089a",
   "metadata": {},
   "source": [
    "# Q9. Which operators and built-in string methods produce simple Boolean (true/false) results?"
   ]
  },
  {
   "cell_type": "raw",
   "id": "7bf63c46",
   "metadata": {},
   "source": [
    "Comparison operators are ==, !=, <, >, <=, and >=.\n",
    "\n",
    "Below are built-in string methods.\n",
    "\n",
    "str.startswith(substring) to check if a string starts with a given substring.\n",
    "str.endswith(substring) to check if a string ends with a given substring.\n",
    "str.isalpha() to check if all characters in a string are alphabetic.\n",
    "str.isnumeric() to check if all characters in a string are numeric.\n",
    "str.isalnum() to check if all characters in a string are alphanumeric."
   ]
  },
  {
   "cell_type": "code",
   "execution_count": 15,
   "id": "edb8b281",
   "metadata": {},
   "outputs": [
    {
     "name": "stdout",
     "output_type": "stream",
     "text": [
      "True\n",
      "True\n",
      "False\n",
      "False\n",
      "False\n"
     ]
    }
   ],
   "source": [
    "text = \"Hello, Yash!\"\n",
    "starts_with_hello = text.startswith(\"Hello\")\n",
    "ends_with_exclamation = text.endswith(\"!\")\n",
    "print(starts_with_hello)\n",
    "print(ends_with_exclamation)\n",
    "\n",
    "is_alpha = text.isalpha()\n",
    "print(is_alpha)\n",
    "\n",
    "is_numeric = text.isnumeric()\n",
    "print(is_numeric)\n",
    "\n",
    "is_alphanumeric = text.isalnum()\n",
    "print(is_alphanumeric)"
   ]
  },
  {
   "cell_type": "markdown",
   "id": "a04469f9",
   "metadata": {},
   "source": [
    "# Done Regards,Yashwant"
   ]
  }
 ],
 "metadata": {
  "kernelspec": {
   "display_name": "Python 3 (ipykernel)",
   "language": "python",
   "name": "python3"
  },
  "language_info": {
   "codemirror_mode": {
    "name": "ipython",
    "version": 3
   },
   "file_extension": ".py",
   "mimetype": "text/x-python",
   "name": "python",
   "nbconvert_exporter": "python",
   "pygments_lexer": "ipython3",
   "version": "3.9.13"
  }
 },
 "nbformat": 4,
 "nbformat_minor": 5
}
